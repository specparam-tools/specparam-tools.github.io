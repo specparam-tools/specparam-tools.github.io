{
  "cells": [
    {
      "cell_type": "markdown",
      "metadata": {},
      "source": [
        "\n# 07: Fitting Models over Time\n\nUse extensions of the model object to fit power spectra across time.\n"
      ]
    },
    {
      "cell_type": "code",
      "execution_count": null,
      "metadata": {
        "collapsed": false
      },
      "outputs": [],
      "source": [
        "# Import the time & event model objects\nfrom specparam import SpectralTimeModel, SpectralTimeEventModel\n\n# Import Bands object to manage oscillation band definitions\nfrom specparam import Bands\n\n# Import helper utilities for simulating and plotting spectrograms\nfrom specparam.sim import sim_spectrogram\nfrom specparam.plts.spectra import plot_spectrogram"
      ]
    },
    {
      "cell_type": "markdown",
      "metadata": {},
      "source": [
        "## Parameterizing Spectrograms\n\nSo far we have seen how to use spectral models to fit individual power spectra, as well as\ngroups of power spectra. In this tutorial, we extent this to fitting groups of power\nspectra that are organized across time / events.\n\nSpecifically, here we cover the :class:`~specparam.SpectralTimeModel` and\n:class:`~specparam.SpectralTimeEventModel` objects.\n\n### Fitting Spectrograms\n\nFor the goal of fitting power spectra that are organized across adjacent time windows,\nwe can consider that what we are really trying to do is to parameterize spectrograms.\n\nLet's start by simulating an example spectrogram, that we can then parameterize.\n\n\n"
      ]
    },
    {
      "cell_type": "code",
      "execution_count": null,
      "metadata": {
        "collapsed": false
      },
      "outputs": [],
      "source": [
        "# Create & plot an example spectrogram\nn_pre_post = 50\nfreq_range = [3, 25]\nap_params = [[1, 1.5]] * n_pre_post + [[1, 1]] * n_pre_post\npe_params = [[10, 1.5, 2.5]] * n_pre_post + [[10, 0.5, 2.]] * n_pre_post\nfreqs, spectrogram = sim_spectrogram(n_pre_post * 2, freq_range, ap_params, pe_params, nlvs=0.1)"
      ]
    },
    {
      "cell_type": "code",
      "execution_count": null,
      "metadata": {
        "collapsed": false
      },
      "outputs": [],
      "source": [
        "# Plot our simulated spectrogram\nplot_spectrogram(freqs, spectrogram)"
      ]
    },
    {
      "cell_type": "markdown",
      "metadata": {},
      "source": [
        "## SpectralTimeModel\n\nThe :class:`~specparam.SpectralTimeModel` object is an extension of the SpectralModel objects\nto support parameterizing neural power spectra that are organized across time (spectrograms).\n\nIn practice, this object is very similar to the previously introduced spectral model objects,\nespecially the Group model object. The time object is a mildly updated Group object.\n\nThe main differences with the SpectralTimeModel from previous model objects are that the\ndata it accepts and parameterizes should be organized as as array of power spectra over\ntime windows - basically as a spectrogram.\n\n\n"
      ]
    },
    {
      "cell_type": "code",
      "execution_count": null,
      "metadata": {
        "collapsed": false
      },
      "outputs": [],
      "source": [
        "# Initialize a SpectralTimeModel model, which accepts all the same settings as SpectralModel\nft = SpectralTimeModel()"
      ]
    },
    {
      "cell_type": "markdown",
      "metadata": {},
      "source": [
        "### Defining Oscillation Bands\n\nBefore we start parameterizing power spectra we need to set up some guidance on how to\norganize the results - most notably the peaks. Within the object, the Time model does fit\nand store all the peaks it detects. However, without some definition of how to store and\nvisualize the peaks, the object cannot visualize the results across time.\n\nWe can therefore use the :class:`~.Bands` object to define oscillation bands of interest.\nBy doing so, the Time model object will organize peaks based on these band definitions,\nso we can plot, for example, alpha peaks across time windows.\n\n\n"
      ]
    },
    {
      "cell_type": "code",
      "execution_count": null,
      "metadata": {
        "collapsed": false
      },
      "outputs": [],
      "source": [
        "# Define a bands object to organize peak parameters\nbands = Bands({'alpha' : [7, 14]})"
      ]
    },
    {
      "cell_type": "markdown",
      "metadata": {},
      "source": [
        "Now we are ready to fit our spectrogram! As with all model objects, we can fit the models\nwith the `fit` method, or fit, plot, and print with the `report` method.\n\n\n"
      ]
    },
    {
      "cell_type": "code",
      "execution_count": null,
      "metadata": {
        "collapsed": false
      },
      "outputs": [],
      "source": [
        "# Fit the spectrogram and print out report\nft.report(freqs, spectrogram, peak_org=bands)"
      ]
    },
    {
      "cell_type": "markdown",
      "metadata": {},
      "source": [
        "In the above, we can see that the Time object measures the same aperiodic and periodic\nparameters as before, now organized and plotted across time windows.\n\n\n"
      ]
    },
    {
      "cell_type": "markdown",
      "metadata": {},
      "source": [
        "## Parameterizing Repeated Events\n\nIn the above, we parameterized a single spectrogram reflecting power spectra over time windows.\n\nWe can also go one step further - parameterizing multiple spectrograms, with the same\ntime definition, which can be thought of as representing events (for example, examining\n+/- 5 seconds around an event of interest, that happens multiple times.)\n\nTo start, let's simulate multiple spectrograms, representing our different events.\n\n\n"
      ]
    },
    {
      "cell_type": "code",
      "execution_count": null,
      "metadata": {
        "collapsed": false
      },
      "outputs": [],
      "source": [
        "# Simulate a collection of spectrograms (across events)\nn_events = 3\nspectrograms = []\nfor ind in range(n_events):\n    freqs, cur_spect = sim_spectrogram(n_pre_post * 2, freq_range, ap_params, pe_params, nlvs=0.1)\n    spectrograms.append(cur_spect)"
      ]
    },
    {
      "cell_type": "code",
      "execution_count": null,
      "metadata": {
        "collapsed": false
      },
      "outputs": [],
      "source": [
        "# Plot the set of simulated spectrograms\nfor cur_spect in spectrograms:\n    plot_spectrogram(freqs, cur_spect)"
      ]
    },
    {
      "cell_type": "markdown",
      "metadata": {},
      "source": [
        "## SpectralTimeEventModel\n\nTo parameterize events (multiple spectrograms) we can use the\n:class:`~specparam.SpectralTimeEventModel` object.\n\nThe Event is a further extension of the Time object, which can handle multiple spectrograms.\nYou can think of it as an object that manages a Time object for each spectrogram, and then\nallows for collecting and examining the results across multiple events. Just like the Time\nobject, the Event object can take in a band definition to organize the peak results.\n\nThe Event object has all the same attributes and methods as the previous model objects,\nwith the notably update that it accepts as data to parameterize a 3d array of spectrograms.\n\n\n"
      ]
    },
    {
      "cell_type": "code",
      "execution_count": null,
      "metadata": {
        "collapsed": false
      },
      "outputs": [],
      "source": [
        "# Initialize the spectral event model\nfe = SpectralTimeEventModel()"
      ]
    },
    {
      "cell_type": "code",
      "execution_count": null,
      "metadata": {
        "collapsed": false
      },
      "outputs": [],
      "source": [
        "# Fit the spectrograms and print out report\nfe.report(freqs, spectrograms, peak_org=bands)"
      ]
    },
    {
      "cell_type": "markdown",
      "metadata": {},
      "source": [
        "In the above, we can see that the Event object mimics the layout of the Time report, with\nthe update that since the data are now averaged across multiple event, each plot now represents\nthe average value of each parameter, shaded by it's standard deviation.\n\nWhen examining peaks across time and trials, there can also be a variable presence of if / when\npeaks of a particular band are detected. To quantify this, the Event report also includes the\n'presence' plot, which reports on the % of events that have a detected peak for the given\nband definition. Note that only time windows with a detected peak contribute to the\nvisualized data in the other periodic parameter plots.\n\n\n"
      ]
    },
    {
      "cell_type": "markdown",
      "metadata": {},
      "source": [
        "## Conclusion\n\nNow we have explored fitting power spectrum models and running these fits across time\nwindows, including across multiple events. Next we dig deeper into how to choose and tune\nthe algorithm settings, and how to troubleshoot if any of the fitting seems to go wrong.\n\n\n"
      ]
    }
  ],
  "metadata": {
    "kernelspec": {
      "display_name": "Python 3",
      "language": "python",
      "name": "python3"
    },
    "language_info": {
      "codemirror_mode": {
        "name": "ipython",
        "version": 3
      },
      "file_extension": ".py",
      "mimetype": "text/x-python",
      "name": "python",
      "nbconvert_exporter": "python",
      "pygments_lexer": "ipython3",
      "version": "3.8.3"
    }
  },
  "nbformat": 4,
  "nbformat_minor": 0
}